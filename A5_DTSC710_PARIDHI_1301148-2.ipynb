{
  "cells": [
    {
      "cell_type": "code",
      "execution_count": 164,
      "id": "0f61eb36",
      "metadata": {
        "colab": {
          "base_uri": "https://localhost:8080/"
        },
        "id": "0f61eb36",
        "outputId": "ee3a4f94-693d-4a09-e071-a5b54de94950"
      },
      "outputs": [
        {
          "output_type": "stream",
          "name": "stdout",
          "text": [
            "shell-init: error retrieving current directory: getcwd: cannot access parent directories: No such file or directory\n",
            "shell-init: error retrieving current directory: getcwd: cannot access parent directories: No such file or directory\n",
            "The folder you are executing pip from can no longer be found.\n"
          ]
        }
      ],
      "source": [
        "!pip install matplotlib==3.1.0"
      ]
    },
    {
      "cell_type": "code",
      "source": [
        "import numpy\n",
        "import pandas\n",
        "from sklearn.model_selection import cross_val_score\n",
        "from sklearn.model_selection import KFold\n",
        "from sklearn.preprocessing import LabelEncoder\n",
        "from sklearn.pipeline import Pipeline\n",
        "import pandas as pd\n",
        "import numpy as np\n",
        "from sklearn import datasets\n",
        "from sklearn import model_selection\n",
        "from sklearn.metrics import classification_report\n",
        "from sklearn.metrics import confusion_matrix\n",
        "from sklearn.metrics import accuracy_score\n",
        "import seaborn as sns\n",
        "sns.set()\n",
        "import os, sys, itertools, re\n",
        "%matplotlib inline\n",
        "import matplotlib.pyplot as plt\n",
        "import seaborn as sns\n",
        "import plotly.express as px\n",
        "from sklearn.neighbors import kneighbors_graph\n",
        "import networkx as nx\n",
        "from sklearn.cluster import KMeans\n",
        "from pandas import Series, DataFrame"
      ],
      "metadata": {
        "id": "-0YmIINIskpp"
      },
      "id": "-0YmIINIskpp",
      "execution_count": 165,
      "outputs": []
    },
    {
      "cell_type": "code",
      "source": [
        "\n",
        "\n",
        "if 'google.colab' in sys.modules:    \n",
        "    project_path =  \"/content/drive/MyDrive/\"\n",
        "    \n",
        "    from google.colab import drive\n",
        "    \n",
        "    drive.mount('/content/drive/', force_remount=True)\n",
        "    sys.path.append(project_path)\n",
        "    %cd $project_path"
      ],
      "metadata": {
        "id": "knZQCkKSsJq1"
      },
      "id": "knZQCkKSsJq1",
      "execution_count": null,
      "outputs": []
    },
    {
      "cell_type": "code",
      "execution_count": null,
      "id": "a466bc43",
      "metadata": {
        "colab": {
          "base_uri": "https://localhost:8080/",
          "height": 204
        },
        "id": "a466bc43",
        "outputId": "22ced9aa-47ac-48bd-dcc4-5de770eac17b"
      },
      "outputs": [
        {
          "output_type": "execute_result",
          "data": {
            "text/plain": [
              "   SepalLength  SepalWidth  PetalLength  PetalWidth         Name\n",
              "0          5.1         3.5          1.4         0.2  Iris-setosa\n",
              "1          4.9         3.0          1.4         0.2  Iris-setosa\n",
              "2          4.7         3.2          1.3         0.2  Iris-setosa\n",
              "3          4.6         3.1          1.5         0.2  Iris-setosa\n",
              "4          5.0         3.6          1.4         0.2  Iris-setosa"
            ],
            "text/html": [
              "\n",
              "  <div id=\"df-6f01c29e-c332-4217-9518-3a55107c7b4d\">\n",
              "    <div class=\"colab-df-container\">\n",
              "      <div>\n",
              "<style scoped>\n",
              "    .dataframe tbody tr th:only-of-type {\n",
              "        vertical-align: middle;\n",
              "    }\n",
              "\n",
              "    .dataframe tbody tr th {\n",
              "        vertical-align: top;\n",
              "    }\n",
              "\n",
              "    .dataframe thead th {\n",
              "        text-align: right;\n",
              "    }\n",
              "</style>\n",
              "<table border=\"1\" class=\"dataframe\">\n",
              "  <thead>\n",
              "    <tr style=\"text-align: right;\">\n",
              "      <th></th>\n",
              "      <th>SepalLength</th>\n",
              "      <th>SepalWidth</th>\n",
              "      <th>PetalLength</th>\n",
              "      <th>PetalWidth</th>\n",
              "      <th>Name</th>\n",
              "    </tr>\n",
              "  </thead>\n",
              "  <tbody>\n",
              "    <tr>\n",
              "      <th>0</th>\n",
              "      <td>5.1</td>\n",
              "      <td>3.5</td>\n",
              "      <td>1.4</td>\n",
              "      <td>0.2</td>\n",
              "      <td>Iris-setosa</td>\n",
              "    </tr>\n",
              "    <tr>\n",
              "      <th>1</th>\n",
              "      <td>4.9</td>\n",
              "      <td>3.0</td>\n",
              "      <td>1.4</td>\n",
              "      <td>0.2</td>\n",
              "      <td>Iris-setosa</td>\n",
              "    </tr>\n",
              "    <tr>\n",
              "      <th>2</th>\n",
              "      <td>4.7</td>\n",
              "      <td>3.2</td>\n",
              "      <td>1.3</td>\n",
              "      <td>0.2</td>\n",
              "      <td>Iris-setosa</td>\n",
              "    </tr>\n",
              "    <tr>\n",
              "      <th>3</th>\n",
              "      <td>4.6</td>\n",
              "      <td>3.1</td>\n",
              "      <td>1.5</td>\n",
              "      <td>0.2</td>\n",
              "      <td>Iris-setosa</td>\n",
              "    </tr>\n",
              "    <tr>\n",
              "      <th>4</th>\n",
              "      <td>5.0</td>\n",
              "      <td>3.6</td>\n",
              "      <td>1.4</td>\n",
              "      <td>0.2</td>\n",
              "      <td>Iris-setosa</td>\n",
              "    </tr>\n",
              "  </tbody>\n",
              "</table>\n",
              "</div>\n",
              "      <button class=\"colab-df-convert\" onclick=\"convertToInteractive('df-6f01c29e-c332-4217-9518-3a55107c7b4d')\"\n",
              "              title=\"Convert this dataframe to an interactive table.\"\n",
              "              style=\"display:none;\">\n",
              "        \n",
              "  <svg xmlns=\"http://www.w3.org/2000/svg\" height=\"24px\"viewBox=\"0 0 24 24\"\n",
              "       width=\"24px\">\n",
              "    <path d=\"M0 0h24v24H0V0z\" fill=\"none\"/>\n",
              "    <path d=\"M18.56 5.44l.94 2.06.94-2.06 2.06-.94-2.06-.94-.94-2.06-.94 2.06-2.06.94zm-11 1L8.5 8.5l.94-2.06 2.06-.94-2.06-.94L8.5 2.5l-.94 2.06-2.06.94zm10 10l.94 2.06.94-2.06 2.06-.94-2.06-.94-.94-2.06-.94 2.06-2.06.94z\"/><path d=\"M17.41 7.96l-1.37-1.37c-.4-.4-.92-.59-1.43-.59-.52 0-1.04.2-1.43.59L10.3 9.45l-7.72 7.72c-.78.78-.78 2.05 0 2.83L4 21.41c.39.39.9.59 1.41.59.51 0 1.02-.2 1.41-.59l7.78-7.78 2.81-2.81c.8-.78.8-2.07 0-2.86zM5.41 20L4 18.59l7.72-7.72 1.47 1.35L5.41 20z\"/>\n",
              "  </svg>\n",
              "      </button>\n",
              "      \n",
              "  <style>\n",
              "    .colab-df-container {\n",
              "      display:flex;\n",
              "      flex-wrap:wrap;\n",
              "      gap: 12px;\n",
              "    }\n",
              "\n",
              "    .colab-df-convert {\n",
              "      background-color: #E8F0FE;\n",
              "      border: none;\n",
              "      border-radius: 50%;\n",
              "      cursor: pointer;\n",
              "      display: none;\n",
              "      fill: #1967D2;\n",
              "      height: 32px;\n",
              "      padding: 0 0 0 0;\n",
              "      width: 32px;\n",
              "    }\n",
              "\n",
              "    .colab-df-convert:hover {\n",
              "      background-color: #E2EBFA;\n",
              "      box-shadow: 0px 1px 2px rgba(60, 64, 67, 0.3), 0px 1px 3px 1px rgba(60, 64, 67, 0.15);\n",
              "      fill: #174EA6;\n",
              "    }\n",
              "\n",
              "    [theme=dark] .colab-df-convert {\n",
              "      background-color: #3B4455;\n",
              "      fill: #D2E3FC;\n",
              "    }\n",
              "\n",
              "    [theme=dark] .colab-df-convert:hover {\n",
              "      background-color: #434B5C;\n",
              "      box-shadow: 0px 1px 3px 1px rgba(0, 0, 0, 0.15);\n",
              "      filter: drop-shadow(0px 1px 2px rgba(0, 0, 0, 0.3));\n",
              "      fill: #FFFFFF;\n",
              "    }\n",
              "  </style>\n",
              "\n",
              "      <script>\n",
              "        const buttonEl =\n",
              "          document.querySelector('#df-6f01c29e-c332-4217-9518-3a55107c7b4d button.colab-df-convert');\n",
              "        buttonEl.style.display =\n",
              "          google.colab.kernel.accessAllowed ? 'block' : 'none';\n",
              "\n",
              "        async function convertToInteractive(key) {\n",
              "          const element = document.querySelector('#df-6f01c29e-c332-4217-9518-3a55107c7b4d');\n",
              "          const dataTable =\n",
              "            await google.colab.kernel.invokeFunction('convertToInteractive',\n",
              "                                                     [key], {});\n",
              "          if (!dataTable) return;\n",
              "\n",
              "          const docLinkHtml = 'Like what you see? Visit the ' +\n",
              "            '<a target=\"_blank\" href=https://colab.research.google.com/notebooks/data_table.ipynb>data table notebook</a>'\n",
              "            + ' to learn more about interactive tables.';\n",
              "          element.innerHTML = '';\n",
              "          dataTable['output_type'] = 'display_data';\n",
              "          await google.colab.output.renderOutput(dataTable, element);\n",
              "          const docLink = document.createElement('div');\n",
              "          docLink.innerHTML = docLinkHtml;\n",
              "          element.appendChild(docLink);\n",
              "        }\n",
              "      </script>\n",
              "    </div>\n",
              "  </div>\n",
              "  "
            ]
          },
          "metadata": {},
          "execution_count": 4
        }
      ],
      "source": [
        "data = pd.read_csv(\"iris.csv\")\n",
        "data.head()"
      ]
    },
    {
      "cell_type": "code",
      "execution_count": null,
      "id": "6d027352",
      "metadata": {
        "colab": {
          "base_uri": "https://localhost:8080/"
        },
        "id": "6d027352",
        "outputId": "2e50ec9a-47c9-490e-d141-043798c0a400"
      },
      "outputs": [
        {
          "output_type": "stream",
          "name": "stdout",
          "text": [
            "<class 'pandas.core.frame.DataFrame'>\n"
          ]
        }
      ],
      "source": [
        "#TYPE OF DATASET\n",
        "print(type(data))\n"
      ]
    },
    {
      "cell_type": "code",
      "execution_count": null,
      "id": "ededff03",
      "metadata": {
        "colab": {
          "base_uri": "https://localhost:8080/"
        },
        "id": "ededff03",
        "outputId": "480ad443-480f-47f6-9b9d-5c59c8d3caf5"
      },
      "outputs": [
        {
          "output_type": "stream",
          "name": "stdout",
          "text": [
            "(150, 5)\n"
          ]
        }
      ],
      "source": [
        "## NUMBER OF ROWS AND COLUMNS\n",
        "print(data.shape)"
      ]
    },
    {
      "cell_type": "code",
      "execution_count": null,
      "id": "c5a3ed52",
      "metadata": {
        "colab": {
          "base_uri": "https://localhost:8080/"
        },
        "id": "c5a3ed52",
        "outputId": "323dc8cc-4a04-41a8-ba6a-4f25252aab22"
      },
      "outputs": [
        {
          "output_type": "stream",
          "name": "stdout",
          "text": [
            "Name\n",
            "Iris-setosa        50\n",
            "Iris-versicolor    50\n",
            "Iris-virginica     50\n",
            "dtype: int64\n"
          ]
        }
      ],
      "source": [
        "## CLASS DISTRIBUTION\n",
        "print(data.groupby('Name').size())"
      ]
    },
    {
      "cell_type": "code",
      "execution_count": null,
      "id": "1f6ae71d",
      "metadata": {
        "colab": {
          "base_uri": "https://localhost:8080/"
        },
        "id": "1f6ae71d",
        "outputId": "af467d17-fabf-4b08-9e02-eb39bebf3a8c"
      },
      "outputs": [
        {
          "output_type": "stream",
          "name": "stdout",
          "text": [
            "<class 'pandas.core.frame.DataFrame'>\n",
            "RangeIndex: 150 entries, 0 to 149\n",
            "Data columns (total 5 columns):\n",
            " #   Column       Non-Null Count  Dtype  \n",
            "---  ------       --------------  -----  \n",
            " 0   SepalLength  150 non-null    float64\n",
            " 1   SepalWidth   150 non-null    float64\n",
            " 2   PetalLength  150 non-null    float64\n",
            " 3   PetalWidth   150 non-null    float64\n",
            " 4   Name         150 non-null    object \n",
            "dtypes: float64(4), object(1)\n",
            "memory usage: 6.0+ KB\n",
            "None\n"
          ]
        }
      ],
      "source": [
        "## DATASET INDEX\n",
        "print(data.info())"
      ]
    },
    {
      "cell_type": "code",
      "execution_count": null,
      "id": "1113bb47",
      "metadata": {
        "colab": {
          "base_uri": "https://localhost:8080/"
        },
        "id": "1113bb47",
        "outputId": "c9d9cf6c-cf37-4ac1-c4ce-c7441dce932c"
      },
      "outputs": [
        {
          "output_type": "stream",
          "name": "stdout",
          "text": [
            "                 PetalLength  PetalWidth  SepalLength  SepalWidth\n",
            "Name                                                             \n",
            "Iris-setosa            1.464       0.244        5.006       3.418\n",
            "Iris-versicolor        4.260       1.326        5.936       2.770\n",
            "Iris-virginica         5.552       2.026        6.588       2.974\n"
          ]
        }
      ],
      "source": [
        "##  PIVOT TABLE\n",
        "print(data.pivot_table(index='Name', values=['SepalLength', 'SepalWidth', 'PetalLength', 'PetalWidth'], aggfunc=np.mean))#pivot table with their means"
      ]
    },
    {
      "cell_type": "code",
      "execution_count": null,
      "id": "0015c3fc",
      "metadata": {
        "colab": {
          "base_uri": "https://localhost:8080/"
        },
        "id": "0015c3fc",
        "outputId": "e096939e-ac17-4663-901d-e83b70b2eb34"
      },
      "outputs": [
        {
          "output_type": "stream",
          "name": "stdout",
          "text": [
            "       SepalLength  SepalWidth  PetalLength  PetalWidth\n",
            "count   150.000000  150.000000   150.000000  150.000000\n",
            "mean      5.843333    3.054000     3.758667    1.198667\n",
            "std       0.828066    0.433594     1.764420    0.763161\n",
            "min       4.300000    2.000000     1.000000    0.100000\n",
            "25%       5.100000    2.800000     1.600000    0.300000\n",
            "50%       5.800000    3.000000     4.350000    1.300000\n",
            "75%       6.400000    3.300000     5.100000    1.800000\n",
            "max       7.900000    4.400000     6.900000    2.500000\n"
          ]
        }
      ],
      "source": [
        "# DATA DESCRIPTION\n",
        "print(data.describe())  # count, mean, minimun/maximum values and percentiles."
      ]
    },
    {
      "cell_type": "code",
      "execution_count": null,
      "id": "c9c4c80e",
      "metadata": {
        "colab": {
          "base_uri": "https://localhost:8080/",
          "height": 284
        },
        "id": "c9c4c80e",
        "outputId": "15ebb482-8326-4e18-b389-12aa603c3cbc"
      },
      "outputs": [
        {
          "output_type": "display_data",
          "data": {
            "text/plain": [
              "<Figure size 432x288 with 1 Axes>"
            ],
            "image/png": "[encoded data removed]"
          },
          "metadata": {
            "needs_background": "light"
          }
        }
      ],
      "source": [
        "#plotting the data frame and displaying plotted graph\n",
        "data.plot(kind=\"hist\") \n",
        "plt.title('Given data set: IRIS')\n",
        "plt.savefig('iris_data.png')  \n",
        "plt.show()  "
      ]
    },
    {
      "cell_type": "code",
      "execution_count": null,
      "id": "a64fcf91",
      "metadata": {
        "colab": {
          "base_uri": "https://localhost:8080/",
          "height": 284
        },
        "id": "a64fcf91",
        "outputId": "f068f043-2307-43c4-af5a-07b16bf20963"
      },
      "outputs": [
        {
          "output_type": "display_data",
          "data": {
            "text/plain": [
              "<Figure size 432x288 with 1 Axes>"
            ],
            "image/png": "[encoded data removed]"
          },
          "metadata": {
            "needs_background": "light"
          }
        }
      ],
      "source": [
        "\n",
        "# Histogram displaying all attributes Y axis on log scale and displaying the graph\n",
        "data.plot(kind=\"hist\")\n",
        "plt.yscale('log') \n",
        "plt.title('Iris dataset log scale on vertical axis')\n",
        "plt.savefig('iris.log_verticalaxis.png') \n",
        "plt.show()  "
      ]
    },
    {
      "cell_type": "code",
      "execution_count": null,
      "id": "bd9f7beb",
      "metadata": {
        "colab": {
          "base_uri": "https://localhost:8080/",
          "height": 270
        },
        "id": "bd9f7beb",
        "outputId": "6e26b05b-5350-4088-ba08-76859a7c6055"
      },
      "outputs": [
        {
          "output_type": "display_data",
          "data": {
            "text/plain": [
              "<Figure size 432x288 with 4 Axes>"
            ],
            "image/png": "[encoded data removed]"
          },
          "metadata": {
            "needs_background": "light"
          }
        }
      ],
      "source": [
        "\n",
        "color = dict(boxes='DarkBlue', whiskers='DarkOrange',medians='DarkGreen', caps='Blue')#colors\n",
        "data.plot(kind='box', subplots=True, layout=(2, 2), sharex=False, sharey=False, color=color)#plot type box\n",
        "plt.savefig('iris_box_and_whisker_plot.png') #save the plot\n",
        "plt.show() #show the plot"
      ]
    },
    {
      "cell_type": "code",
      "execution_count": null,
      "id": "88e24730",
      "metadata": {
        "colab": {
          "base_uri": "https://localhost:8080/",
          "height": 268
        },
        "id": "88e24730",
        "outputId": "c18073d4-8c0d-4885-863c-cadbd656f642"
      },
      "outputs": [
        {
          "output_type": "display_data",
          "data": {
            "text/plain": [
              "<Figure size 432x288 with 1 Axes>"
            ],
            "image/png": "[encoded data removed]"
          },
          "metadata": {}
        }
      ],
      "source": [
        "#loading dataset via seaborn, plotting box plot and save the plot\n",
        "iris = sns.load_dataset(\"iris\") \n",
        "ax = sns.boxplot(data=iris, orient=\"h\", palette=\"dark\") \n",
        "fig=ax.get_figure()\n",
        "fig.savefig(\"iris_box_plot.png\")"
      ]
    },
    {
      "cell_type": "code",
      "execution_count": null,
      "id": "4d8ecd30",
      "metadata": {
        "colab": {
          "base_uri": "https://localhost:8080/",
          "height": 464
        },
        "id": "4d8ecd30",
        "outputId": "f13ce9bd-a490-455a-c72d-b6aed570e475"
      },
      "outputs": [
        {
          "output_type": "display_data",
          "data": {
            "text/plain": [
              "<Figure size 720x504 with 1 Axes>"
            ],
            "image/png": "[encoded data removed]"
          },
          "metadata": {}
        }
      ],
      "source": [
        "fig = data[data.Name == 'Iris-setosa'].plot(kind='scatter', x='SepalLength', y='SepalWidth', color='black', label='SETOSA')\n",
        "data[data.Name == 'Iris-versicolor'].plot(kind='scatter', x='SepalLength', y='SepalWidth', color='blue', label='VERSICOLOR', ax=fig)\n",
        "data[data.Name == 'Iris-virginica'].plot(kind='scatter', x='SepalLength', y='SepalWidth', color='red', label='VIRGINICA', ax=fig)\n",
        "fig.set_xlabel('Sepal Length')\n",
        "fig.set_ylabel('Sepal Width')\n",
        "fig.set_title('Sepal Length Vs Sepal Width Chart')\n",
        "fig=plt.gcf()\n",
        "fig.set_size_inches(10, 7)\n",
        "plt.show()"
      ]
    },
    {
      "cell_type": "code",
      "execution_count": null,
      "id": "34b3d866",
      "metadata": {
        "colab": {
          "base_uri": "https://localhost:8080/",
          "height": 519
        },
        "id": "34b3d866",
        "outputId": "6b7a5b31-71c9-4b3d-8e53-dd1fcd62d27e"
      },
      "outputs": [
        {
          "output_type": "execute_result",
          "data": {
            "text/plain": [
              "<matplotlib.axes._subplots.AxesSubplot at 0x7ff65b9d3750>"
            ]
          },
          "metadata": {},
          "execution_count": 138
        },
        {
          "output_type": "display_data",
          "data": {
            "text/plain": [
              "<Figure size 864x576 with 4 Axes>"
            ],
            "image/png": "[encoded data removed]"
          },
          "metadata": {}
        }
      ],
      "source": [
        "\n",
        "sns.set_theme(style=\"whitegrid\")\n",
        "plt.figure(figsize=(12,8))\n",
        "plt.subplot(2,2,1)\n",
        "sns.violinplot(x='Name', y = 'SepalLength', data=data,color='lavender')\n",
        "plt.subplot(2,2,2)\n",
        "sns.violinplot(x='Name', y = 'SepalWidth', data=data,color='skyblue')\n",
        "plt.subplot(2,2,3)\n",
        "sns.violinplot(x='Name', y = 'PetalLength', data=data,color='pink')\n",
        "plt.subplot(2,2,4)\n",
        "sns.violinplot(x='Name', y = 'PetalWidth', data=data,color='lightgreen')"
      ]
    },
    {
      "cell_type": "code",
      "execution_count": null,
      "id": "dead6264",
      "metadata": {
        "colab": {
          "base_uri": "https://localhost:8080/",
          "height": 173
        },
        "id": "dead6264",
        "outputId": "aa735cf2-4981-4fa5-8666-b11393b5fd64"
      },
      "outputs": [
        {
          "output_type": "execute_result",
          "data": {
            "text/plain": [
              "             SepalLength  SepalWidth  PetalLength  PetalWidth\n",
              "SepalLength     1.000000   -0.109369     0.871754    0.817954\n",
              "SepalWidth     -0.109369    1.000000    -0.420516   -0.356544\n",
              "PetalLength     0.871754   -0.420516     1.000000    0.962757\n",
              "PetalWidth      0.817954   -0.356544     0.962757    1.000000"
            ],
            "text/html": [
              "\n",
              "  <div id=\"df-fbf02983-daf9-4b85-82c2-fdc4f5ba9b54\">\n",
              "    <div class=\"colab-df-container\">\n",
              "      <div>\n",
              "<style scoped>\n",
              "    .dataframe tbody tr th:only-of-type {\n",
              "        vertical-align: middle;\n",
              "    }\n",
              "\n",
              "    .dataframe tbody tr th {\n",
              "        vertical-align: top;\n",
              "    }\n",
              "\n",
              "    .dataframe thead th {\n",
              "        text-align: right;\n",
              "    }\n",
              "</style>\n",
              "<table border=\"1\" class=\"dataframe\">\n",
              "  <thead>\n",
              "    <tr style=\"text-align: right;\">\n",
              "      <th></th>\n",
              "      <th>SepalLength</th>\n",
              "      <th>SepalWidth</th>\n",
              "      <th>PetalLength</th>\n",
              "      <th>PetalWidth</th>\n",
              "    </tr>\n",
              "  </thead>\n",
              "  <tbody>\n",
              "    <tr>\n",
              "      <th>SepalLength</th>\n",
              "      <td>1.000000</td>\n",
              "      <td>-0.109369</td>\n",
              "      <td>0.871754</td>\n",
              "      <td>0.817954</td>\n",
              "    </tr>\n",
              "    <tr>\n",
              "      <th>SepalWidth</th>\n",
              "      <td>-0.109369</td>\n",
              "      <td>1.000000</td>\n",
              "      <td>-0.420516</td>\n",
              "      <td>-0.356544</td>\n",
              "    </tr>\n",
              "    <tr>\n",
              "      <th>PetalLength</th>\n",
              "      <td>0.871754</td>\n",
              "      <td>-0.420516</td>\n",
              "      <td>1.000000</td>\n",
              "      <td>0.962757</td>\n",
              "    </tr>\n",
              "    <tr>\n",
              "      <th>PetalWidth</th>\n",
              "      <td>0.817954</td>\n",
              "      <td>-0.356544</td>\n",
              "      <td>0.962757</td>\n",
              "      <td>1.000000</td>\n",
              "    </tr>\n",
              "  </tbody>\n",
              "</table>\n",
              "</div>\n",
              "      <button class=\"colab-df-convert\" onclick=\"convertToInteractive('df-fbf02983-daf9-4b85-82c2-fdc4f5ba9b54')\"\n",
              "              title=\"Convert this dataframe to an interactive table.\"\n",
              "              style=\"display:none;\">\n",
              "        \n",
              "  <svg xmlns=\"http://www.w3.org/2000/svg\" height=\"24px\"viewBox=\"0 0 24 24\"\n",
              "       width=\"24px\">\n",
              "    <path d=\"M0 0h24v24H0V0z\" fill=\"none\"/>\n",
              "    <path d=\"M18.56 5.44l.94 2.06.94-2.06 2.06-.94-2.06-.94-.94-2.06-.94 2.06-2.06.94zm-11 1L8.5 8.5l.94-2.06 2.06-.94-2.06-.94L8.5 2.5l-.94 2.06-2.06.94zm10 10l.94 2.06.94-2.06 2.06-.94-2.06-.94-.94-2.06-.94 2.06-2.06.94z\"/><path d=\"M17.41 7.96l-1.37-1.37c-.4-.4-.92-.59-1.43-.59-.52 0-1.04.2-1.43.59L10.3 9.45l-7.72 7.72c-.78.78-.78 2.05 0 2.83L4 21.41c.39.39.9.59 1.41.59.51 0 1.02-.2 1.41-.59l7.78-7.78 2.81-2.81c.8-.78.8-2.07 0-2.86zM5.41 20L4 18.59l7.72-7.72 1.47 1.35L5.41 20z\"/>\n",
              "  </svg>\n",
              "      </button>\n",
              "      \n",
              "  <style>\n",
              "    .colab-df-container {\n",
              "      display:flex;\n",
              "      flex-wrap:wrap;\n",
              "      gap: 12px;\n",
              "    }\n",
              "\n",
              "    .colab-df-convert {\n",
              "      background-color: #E8F0FE;\n",
              "      border: none;\n",
              "      border-radius: 50%;\n",
              "      cursor: pointer;\n",
              "      display: none;\n",
              "      fill: #1967D2;\n",
              "      height: 32px;\n",
              "      padding: 0 0 0 0;\n",
              "      width: 32px;\n",
              "    }\n",
              "\n",
              "    .colab-df-convert:hover {\n",
              "      background-color: #E2EBFA;\n",
              "      box-shadow: 0px 1px 2px rgba(60, 64, 67, 0.3), 0px 1px 3px 1px rgba(60, 64, 67, 0.15);\n",
              "      fill: #174EA6;\n",
              "    }\n",
              "\n",
              "    [theme=dark] .colab-df-convert {\n",
              "      background-color: #3B4455;\n",
              "      fill: #D2E3FC;\n",
              "    }\n",
              "\n",
              "    [theme=dark] .colab-df-convert:hover {\n",
              "      background-color: #434B5C;\n",
              "      box-shadow: 0px 1px 3px 1px rgba(0, 0, 0, 0.15);\n",
              "      filter: drop-shadow(0px 1px 2px rgba(0, 0, 0, 0.3));\n",
              "      fill: #FFFFFF;\n",
              "    }\n",
              "  </style>\n",
              "\n",
              "      <script>\n",
              "        const buttonEl =\n",
              "          document.querySelector('#df-fbf02983-daf9-4b85-82c2-fdc4f5ba9b54 button.colab-df-convert');\n",
              "        buttonEl.style.display =\n",
              "          google.colab.kernel.accessAllowed ? 'block' : 'none';\n",
              "\n",
              "        async function convertToInteractive(key) {\n",
              "          const element = document.querySelector('#df-fbf02983-daf9-4b85-82c2-fdc4f5ba9b54');\n",
              "          const dataTable =\n",
              "            await google.colab.kernel.invokeFunction('convertToInteractive',\n",
              "                                                     [key], {});\n",
              "          if (!dataTable) return;\n",
              "\n",
              "          const docLinkHtml = 'Like what you see? Visit the ' +\n",
              "            '<a target=\"_blank\" href=https://colab.research.google.com/notebooks/data_table.ipynb>data table notebook</a>'\n",
              "            + ' to learn more about interactive tables.';\n",
              "          element.innerHTML = '';\n",
              "          dataTable['output_type'] = 'display_data';\n",
              "          await google.colab.output.renderOutput(dataTable, element);\n",
              "          const docLink = document.createElement('div');\n",
              "          docLink.innerHTML = docLinkHtml;\n",
              "          element.appendChild(docLink);\n",
              "        }\n",
              "      </script>\n",
              "    </div>\n",
              "  </div>\n",
              "  "
            ]
          },
          "metadata": {},
          "execution_count": 140
        }
      ],
      "source": [
        "data_corr = data.corr()\n",
        "data_corr"
      ]
    },
    {
      "cell_type": "code",
      "execution_count": null,
      "id": "8d9fdadf",
      "metadata": {
        "colab": {
          "base_uri": "https://localhost:8080/",
          "height": 272
        },
        "id": "8d9fdadf",
        "outputId": "45b8f860-72a4-40ef-c45c-76f5ade42869"
      },
      "outputs": [
        {
          "output_type": "display_data",
          "data": {
            "text/plain": [
              "<Figure size 432x288 with 2 Axes>"
            ],
            "image/png": "[encoded data removed]"
          },
          "metadata": {}
        }
      ],
      "source": [
        "sns.heatmap(data=data_corr, cmap='YlGnBu', annot=True, fmt='.2f')\n",
        "plt.show()"
      ]
    },
    {
      "cell_type": "markdown",
      "id": "928d3cf5",
      "metadata": {
        "id": "928d3cf5"
      },
      "source": [
        ""
      ]
    },
    {
      "cell_type": "code",
      "execution_count": null,
      "id": "30dd2704",
      "metadata": {
        "id": "30dd2704"
      },
      "outputs": [],
      "source": [
        "from keras.models import Sequential\n",
        "from keras.layers import Dense\n",
        "from tensorflow.keras.utils import to_categorical\n",
        "from tensorflow.keras.optimizers import SGD,Adam"
      ]
    },
    {
      "cell_type": "code",
      "execution_count": null,
      "id": "2abedd95",
      "metadata": {
        "id": "2abedd95"
      },
      "outputs": [],
      "source": [
        "#Splitting the data into training and test test\n",
        "X = data.iloc[:,:-1].values\n",
        "y = data.iloc[:,-1:].values\n"
      ]
    },
    {
      "cell_type": "code",
      "source": [
        "from sklearn.preprocessing import LabelEncoder\n",
        "encoder =  LabelEncoder()\n",
        "y1 = encoder.fit_transform(y)\n",
        "\n",
        "Y = pd.get_dummies(y1).values\n",
        "\n",
        "\n",
        "from sklearn.model_selection import train_test_split\n",
        "X_train,X_test, y_train,y_test = train_test_split(X,Y,test_size=0.2,random_state=42) "
      ],
      "metadata": {
        "id": "PDmq_MtXuODj"
      },
      "id": "PDmq_MtXuODj",
      "execution_count": null,
      "outputs": []
    },
    {
      "cell_type": "code",
      "source": [
        "from sklearn.neural_network import MLPClassifier\n",
        "lr = MLPClassifier()\n",
        "lr.fit(X_train,y_train)\n"
      ],
      "metadata": {
        "colab": {
          "base_uri": "https://localhost:8080/"
        },
        "id": "IPiQD5KqyRGV",
        "outputId": "c0abfe0b-3a3f-4fa2-f0c8-c25a045c347f"
      },
      "id": "IPiQD5KqyRGV",
      "execution_count": null,
      "outputs": [
        {
          "output_type": "execute_result",
          "data": {
            "text/plain": [
              "MLPClassifier()"
            ]
          },
          "metadata": {},
          "execution_count": 145
        }
      ]
    },
    {
      "cell_type": "code",
      "source": [
        "#importing the metrics and performance on training and testing data set\n",
        "from sklearn.naive_bayes import GaussianNB\n",
        "from sklearn import metrics, preprocessing, svm\n",
        "from sklearn.metrics import mean_squared_error,mean_absolute_error,r2_score\n",
        "from sklearn.naive_bayes import GaussianNB\n",
        "from sklearn.metrics import mean_squared_error,mean_absolute_error,r2_score\n",
        "pred_lr=lr.predict(X_test) \n",
        "print('Performance on training data using LR:',lr.score(X_train,y_train))\n",
        "print('Performance on testing data using LR:',lr.score(X_test,y_test))\n",
        "print('MSE: ',metrics.mean_squared_error(y_test, pred_lr))\n",
        "print('RMSE: ',np.sqrt(metrics.mean_squared_error(y_test,pred_lr)))\n",
        "#Evaluate the model using accuracy\n",
        "lr_acc=metrics.r2_score(y_test,pred_lr)\n",
        "print('Accuracy LR_pipeline: ',lr_acc)\n",
        "mse_lr= mean_squared_error(y_test, pred_lr)\n",
        "print(mse_lr)"
      ],
      "metadata": {
        "colab": {
          "base_uri": "https://localhost:8080/"
        },
        "id": "nqLaN8Fz-Ae2",
        "outputId": "de44db34-9090-4329-9881-e96233f5e4d7"
      },
      "id": "nqLaN8Fz-Ae2",
      "execution_count": null,
      "outputs": [
        {
          "output_type": "stream",
          "name": "stdout",
          "text": [
            "Performance on training data using LR: 0.6666666666666666\n",
            "Performance on testing data using LR: 0.7\n",
            "MSE:  0.09999999999999999\n",
            "RMSE:  0.31622776601683794\n",
            "Accuracy LR_pipeline:  0.5238095238095236\n",
            "0.09999999999999999\n"
          ]
        }
      ]
    },
    {
      "cell_type": "code",
      "source": [
        "import warnings\n",
        "\n",
        "warnings.filterwarnings(\"ignore\")"
      ],
      "metadata": {
        "id": "M257Qf4a-0Yw"
      },
      "id": "M257Qf4a-0Yw",
      "execution_count": null,
      "outputs": []
    },
    {
      "cell_type": "code",
      "source": [
        "param_grid = {\n",
        "    'hidden_layer_sizes':[10,15,100,200],\n",
        "    'activation': ['relu','tanh'],\n",
        "    'solver': ['adam'],\n",
        "    'alpha': [0,0.0005,0.0001,0.0005,0.001],\n",
        "    'learning_rate_init': [0.005,0.01],\n",
        "    'max_iter': [200,500],\n",
        "    'shuffle': [True,False] \n",
        "}\n",
        "\n",
        "gridSearch = GridSearchCV(MLPClassifier(), param_grid, cv=cv,scoring='recall',verbose=2)\n",
        "gridSearch.fit(X_train, y_train)\n",
        "print('Score: ', gridSearch.best_score_)\n",
        "print('Parameters: ', gridSearch.best_params_)"
      ],
      "metadata": {
        "id": "fbz9IdTp-0hf"
      },
      "id": "fbz9IdTp-0hf",
      "execution_count": null,
      "outputs": []
    },
    {
      "cell_type": "code",
      "source": [
        "#importing the metrics\n",
        "from sklearn.naive_bayes import GaussianNB\n",
        "from sklearn import metrics, preprocessing, svm\n",
        "from sklearn.metrics import mean_squared_error,mean_absolute_error,r2_score\n",
        "from sklearn.naive_bayes import GaussianNB\n",
        "from sklearn.metrics import mean_squared_error,mean_absolute_error,r2_score\n",
        "lr = MLPClassifier(activation ='relu', alpha= 0, hidden_layer_sizes=10, learning_rate_init= 0.005, max_iter= 200, shuffle=True, solver='adam',random_state=420)\n",
        "lr.fit(X_train,y_train)\n",
        "pred_lr=lr.predict(X_test) \n",
        "print('Performance on training data using LR:',lr.score(X_train,y_train))\n",
        "print('Performance on testing data using LR:',lr.score(X_test,y_test))\n",
        "print('MSE: ',metrics.mean_squared_error(y_test, pred_lr))\n",
        "print('RMSE: ',np.sqrt(metrics.mean_squared_error(y_test,pred_lr)))\n",
        "#Evaluating the accuracy via the model being used\n",
        "lr_acc=metrics.r2_score(y_test,pred_lr)\n",
        "print('Accuracy LR_pipeline: ',lr_acc)\n",
        "mse_lr= mean_squared_error(y_test, pred_lr)\n",
        "print(mse_lr)  "
      ],
      "metadata": {
        "colab": {
          "base_uri": "https://localhost:8080/"
        },
        "id": "IiVMQ7aG-0ks",
        "outputId": "6b10198d-4424-4cea-c4ca-278c1947f3cc"
      },
      "id": "IiVMQ7aG-0ks",
      "execution_count": null,
      "outputs": [
        {
          "output_type": "stream",
          "name": "stdout",
          "text": [
            "Performance on training data using LR: 0.9666666666666667\n",
            "Performance on testing data using LR: 1.0\n",
            "MSE:  0.0\n",
            "RMSE:  0.0\n",
            "Accuracy LR_pipeline:  1.0\n",
            "0.0\n"
          ]
        }
      ]
    },
    {
      "cell_type": "code",
      "source": [
        "#importing the metrics\n",
        "from sklearn.naive_bayes import GaussianNB\n",
        "from sklearn import metrics, preprocessing, svm\n",
        "from sklearn.metrics import mean_squared_error,mean_absolute_error,r2_score\n",
        "from sklearn.naive_bayes import GaussianNB\n",
        "from sklearn.metrics import mean_squared_error,mean_absolute_error,r2_score\n",
        "lr = MLPClassifier(activation ='relu', alpha= 0, hidden_layer_sizes=10, learning_rate_init= 0.005, max_iter= 200, shuffle=True, solver='adam',random_state=419)\n",
        "lr.fit(X_train,y_train)\n",
        "pred_lr=lr.predict(X_test) \n",
        "print('Performance on training data using LR:',lr.score(X_train,y_train))\n",
        "print('Performance on testing data using LR:',lr.score(X_test,y_test))\n",
        "print('MSE: ',metrics.mean_squared_error(y_test, pred_lr))\n",
        "print('RMSE: ',np.sqrt(metrics.mean_squared_error(y_test,pred_lr)))\n",
        "lr_acc=metrics.r2_score(y_test,pred_lr)\n",
        "print('Accuracy LR_pipeline: ',lr_acc)\n",
        "mse_lr= mean_squared_error(y_test, pred_lr)\n",
        "print(mse_lr)  "
      ],
      "metadata": {
        "colab": {
          "base_uri": "https://localhost:8080/"
        },
        "id": "pQMNlsCuJ5l9",
        "outputId": "95cb9443-e29b-4e26-feac-41387d3fffb5"
      },
      "id": "pQMNlsCuJ5l9",
      "execution_count": null,
      "outputs": [
        {
          "output_type": "stream",
          "name": "stdout",
          "text": [
            "Performance on training data using LR: 0.975\n",
            "Performance on testing data using LR: 0.9666666666666667\n",
            "MSE:  0.022222222222222223\n",
            "RMSE:  0.14907119849998599\n",
            "Accuracy LR_pipeline:  0.899243057137794\n",
            "0.022222222222222223\n"
          ]
        }
      ]
    },
    {
      "cell_type": "code",
      "source": [
        "from sklearn.metrics import confusion_matrix, accuracy_score, precision_score, recall_score"
      ],
      "metadata": {
        "id": "Qny5wM8KDxgW"
      },
      "id": "Qny5wM8KDxgW",
      "execution_count": null,
      "outputs": []
    },
    {
      "cell_type": "code",
      "source": [
        "import seaborn as sns\n",
        "\n",
        "T5_lables = ['setosa',\"versicolor\",\"virginica\"]    \n",
        "\n",
        "ax= plt.subplot()\n",
        "\n",
        "cnf_matrix = confusion_matrix(np.asarray(y_test).argmax(axis=1), np.asarray(pred_lr).argmax(axis=1))\n",
        "sns.heatmap(cnf_matrix, annot=True, fmt='g', ax=ax); \n",
        "ax.set_xlabel('labels which are predicted');ax.set_ylabel('labels which are true'); \n",
        "ax.set_title('Confusion Matrix formed'); \n",
        "ax.xaxis.set_ticklabels(T5_lables); ax.yaxis.set_ticklabels(T5_lables);"
      ],
      "metadata": {
        "colab": {
          "base_uri": "https://localhost:8080/",
          "height": 301
        },
        "id": "NYLcF5gWFGIy",
        "outputId": "6ba8a249-3723-4fe7-86b6-507a1b80f28e"
      },
      "id": "NYLcF5gWFGIy",
      "execution_count": null,
      "outputs": [
        {
          "output_type": "display_data",
          "data": {
            "text/plain": [
              "<Figure size 432x288 with 2 Axes>"
            ],
            "image/png": "[encoded data removed]"
          },
          "metadata": {}
        }
      ]
    },
    {
      "cell_type": "code",
      "source": [
        "#Predicted value and its accuracy\n",
        "from sklearn.metrics import classification_report,confusion_matrix\n",
        "print(classification_report(y_test,pred_lr))\n"
      ],
      "metadata": {
        "colab": {
          "base_uri": "https://localhost:8080/"
        },
        "id": "jmawzN9MvLf0",
        "outputId": "69fb4d87-5c15-49aa-b7c8-5fc21942af81"
      },
      "id": "jmawzN9MvLf0",
      "execution_count": null,
      "outputs": [
        {
          "output_type": "stream",
          "name": "stdout",
          "text": [
            "              precision    recall  f1-score   support\n",
            "\n",
            "           0       1.00      1.00      1.00        10\n",
            "           1       1.00      0.89      0.94         9\n",
            "           2       0.92      1.00      0.96        11\n",
            "\n",
            "   micro avg       0.97      0.97      0.97        30\n",
            "   macro avg       0.97      0.96      0.97        30\n",
            "weighted avg       0.97      0.97      0.97        30\n",
            " samples avg       0.97      0.97      0.97        30\n",
            "\n"
          ]
        }
      ]
    },
    {
      "cell_type": "code",
      "source": [
        "# Sensitivity, hit rate, recall, or true positive rate\n",
        "\n",
        "FP = cnf_matrix.sum(axis=0) - np.diag(cnf_matrix) \n",
        "FN = cnf_matrix.sum(axis=1) - np.diag(cnf_matrix)\n",
        "TP = np.diag(cnf_matrix)\n",
        "TN = cnf_matrix.sum() - (FP + FN + TP)\n",
        "FP = FP.astype(float)\n",
        "FN = FN.astype(float)\n",
        "TP = TP.astype(float)\n",
        "TN = TN.astype(float)\n",
        "\n",
        "TPR = TP/(TP+FN)\n",
        "print(\"SENSITIVITY : \", TPR)\n",
        "\n",
        "TNR = TN/(TN+FP) \n",
        "print(\"SPECIFICITY : \", TNR)\n",
        "\n",
        "PPV = TP/(TP+FP)\n",
        "print(\"PRECESION: \", PPV)\n",
        "\n",
        "FPR = FP/(FP+TN)\n",
        "print(\"FALSE POSITIVE RATE: \", FPR)\n",
        "\n",
        "FNR = FN/(TP+FN)\n",
        "print(\"FALSE NEGATIVE RATE: \", FNR)\n",
        "\n",
        "ACC = (TP+TN)/(TP+FP+FN+TN)\n",
        "print(\"ACCURACY FOR EACH CLASS: \", ACC)"
      ],
      "metadata": {
        "colab": {
          "base_uri": "https://localhost:8080/"
        },
        "id": "HM9yjGkfJALT",
        "outputId": "2b624752-3b8c-4419-9656-577099355078"
      },
      "id": "HM9yjGkfJALT",
      "execution_count": null,
      "outputs": [
        {
          "output_type": "stream",
          "name": "stdout",
          "text": [
            "SENSITIVITY :  [1.         0.88888889 1.        ]\n",
            "SPECIFICITY :  [1.         1.         0.94736842]\n",
            "PRECESION:  [1.         1.         0.91666667]\n",
            "FALSE POSITIVE RATE:  [0.         0.         0.05263158]\n",
            "FALSE NEGATIVE RATE:  [0.         0.11111111 0.        ]\n",
            "ACCURACY FOR EACH CLASS:  [1.         0.96666667 0.96666667]\n"
          ]
        }
      ]
    },
    {
      "cell_type": "code",
      "source": [
        "from sklearn.metrics import accuracy_score\n",
        "accuracy_score(y_test,pred_lr)"
      ],
      "metadata": {
        "colab": {
          "base_uri": "https://localhost:8080/"
        },
        "id": "DUbbWU-VvX93",
        "outputId": "c3384768-7e6f-49d6-b9f1-cf715e101328"
      },
      "id": "DUbbWU-VvX93",
      "execution_count": null,
      "outputs": [
        {
          "output_type": "execute_result",
          "data": {
            "text/plain": [
              "1.0"
            ]
          },
          "metadata": {},
          "execution_count": 152
        }
      ]
    },
    {
      "cell_type": "code",
      "source": [
        "from sklearn.metrics import roc_curve, roc_auc_score\n",
        "#roc auc score\n",
        "roc_auc_score(y_test, pred_lr, multi_class='ovo', average='weighted')\n"
      ],
      "metadata": {
        "colab": {
          "base_uri": "https://localhost:8080/"
        },
        "id": "0lWVvbtiIjIs",
        "outputId": "ceb57504-89f0-44a9-baca-98624ddf847d"
      },
      "id": "0lWVvbtiIjIs",
      "execution_count": null,
      "outputs": [
        {
          "output_type": "execute_result",
          "data": {
            "text/plain": [
              "1.0"
            ]
          },
          "metadata": {},
          "execution_count": 153
        }
      ]
    },
    {
      "cell_type": "code",
      "source": [
        "#Precision of each label\n",
        "from sklearn import metrics\n",
        "print(\"None \", metrics.precision_score(y_test,pred_lr, average=None)) "
      ],
      "metadata": {
        "colab": {
          "base_uri": "https://localhost:8080/"
        },
        "id": "EctYbO2r3cf5",
        "outputId": "d0265ae7-080a-4a24-8c9e-c0970678e326"
      },
      "id": "EctYbO2r3cf5",
      "execution_count": null,
      "outputs": [
        {
          "output_type": "stream",
          "name": "stdout",
          "text": [
            "None  [1. 1. 1.]\n"
          ]
        }
      ]
    },
    {
      "cell_type": "code",
      "source": [
        "from sklearn.metrics import roc_curve, auc\n",
        "pred = lr.predict(X_test)\n",
        "pred = np.argmax(pred,axis=1)"
      ],
      "metadata": {
        "id": "MQ_GCQEN3xea"
      },
      "id": "MQ_GCQEN3xea",
      "execution_count": null,
      "outputs": []
    },
    {
      "cell_type": "code",
      "source": [
        "pred"
      ],
      "metadata": {
        "colab": {
          "base_uri": "https://localhost:8080/"
        },
        "id": "DAhkZeG1Dj7g",
        "outputId": "24dc888c-fc2e-432f-b804-77cf2124db0e"
      },
      "id": "DAhkZeG1Dj7g",
      "execution_count": null,
      "outputs": [
        {
          "output_type": "execute_result",
          "data": {
            "text/plain": [
              "array([1, 0, 2, 1, 1, 0, 1, 2, 2, 1, 2, 0, 0, 0, 0, 1, 2, 1, 1, 2, 0, 2,\n",
              "       0, 2, 2, 2, 2, 2, 0, 0])"
            ]
          },
          "metadata": {},
          "execution_count": 148
        }
      ]
    },
    {
      "cell_type": "code",
      "source": [
        "from scipy import interp\n",
        "import matplotlib.pyplot as plt\n",
        "from itertools import cycle\n",
        "from sklearn.metrics import roc_curve, auc"
      ],
      "metadata": {
        "id": "EFW1dx7NG-Fe"
      },
      "id": "EFW1dx7NG-Fe",
      "execution_count": null,
      "outputs": []
    },
    {
      "cell_type": "code",
      "source": [
        "\n",
        "lw = 2\n",
        "n_classes=3\n",
        "\n",
        "fpr = dict()\n",
        "tpr = dict()\n",
        "roc_auc = dict()\n",
        "for i in range(n_classes):\n",
        "    fpr[i], tpr[i]= roc_curve (y_test[:, i], pred_lr[:, i])\n",
        "    roc_auc[i] = auc(fpr[i], tpr[i])\n",
        "\n",
        "\n",
        "fpr[\"micro\"], tpr[\"micro\"], _ = roc_curve(y_test.ravel(), pred_lr.ravel())\n",
        "roc_auc[\"micro\"] = auc(fpr[\"micro\"], tpr[\"micro\"])\n",
        "\n",
        "all_fpr = np.unique(np.concatenate([fpr[i] for i in range(n_classes)]))\n",
        "mean_tpr = np.zeros_like(all_fpr)\n",
        "for i in range(n_classes):\n",
        "    mean_tpr += interp(all_fpr, fpr[i], tpr[i])\n",
        "\n",
        "mean_tpr /= n_classes\n",
        "\n",
        "fpr[\"macro\"] = all_fpr\n",
        "tpr[\"macro\"] = mean_tpr\n",
        "roc_auc[\"macro\"] = auc(fpr[\"macro\"], tpr[\"macro\"])\n",
        "\n",
        "plt.figure(1)\n",
        "plt.plot(fpr[\"micro\"], tpr[\"micro\"],\n",
        "         label='micro-average ROC curve (area = {0:0.2f})'\n",
        "               ''.format(roc_auc[\"micro\"]),\n",
        "         color='deeppink', linestyle=':', linewidth=4)\n",
        "\n",
        "plt.plot(fpr[\"macro\"], tpr[\"macro\"],\n",
        "         label='macro-average ROC curve (area = {0:0.2f})'\n",
        "               ''.format(roc_auc[\"macro\"]),\n",
        "         color='navy', linestyle=':', linewidth=4)\n",
        "\n",
        "colors = cycle(['aqua', 'darkorange', 'cornflowerblue'])\n",
        "for i, color in zip(range(n_classes), colors):\n",
        "    plt.plot(fpr[i], tpr[i], color=color, lw=lw,\n",
        "             label='ROC curve of class {0} (area = {1:0.2f})'\n",
        "             ''.format(i, roc_auc[i]))\n",
        "\n",
        "plt.plot([0, 1], [0, 1], 'k--', lw=lw)\n",
        "plt.xlim([0.0, 1.0])\n",
        "plt.ylim([0.0, 1.05])\n",
        "plt.xlabel('False Positive Rate')\n",
        "plt.ylabel('True Positive Rate')\n",
        "plt.title('Some extension of Receiver operating characteristic to multi-class')\n",
        "plt.legend(loc=\"lower right\")\n",
        "plt.show()\n",
        "\n",
        "plt.figure(2)\n",
        "plt.xlim(0, 0.2)\n",
        "plt.ylim(0.8, 1)\n",
        "plt.plot(fpr[\"micro\"], tpr[\"micro\"],\n",
        "         label='micro-average ROC curve (area = {0:0.2f})'\n",
        "               ''.format(roc_auc[\"micro\"]),\n",
        "         color='deeppink', linestyle=':', linewidth=4)\n",
        "\n",
        "plt.plot(fpr[\"macro\"], tpr[\"macro\"],\n",
        "         label='macro-average ROC curve (area = {0:0.2f})'\n",
        "               ''.format(roc_auc[\"macro\"]),\n",
        "         color='navy', linestyle=':', linewidth=4)\n",
        "\n",
        "colors = cycle(['aqua', 'darkorange', 'cornflowerblue'])\n",
        "for i, color in zip(range(n_classes), colors):\n",
        "    plt.plot(fpr[i], tpr[i], color=color, lw=lw,\n",
        "             label='ROC curve of class {0} (area = {1:0.2f})'\n",
        "             ''.format(i, roc_auc[i]))\n",
        "\n",
        "plt.plot([0, 1], [0, 1], 'k--', lw=lw)\n",
        "plt.xlabel('False Positive Rate')\n",
        "plt.ylabel('True Positive Rate')\n",
        "plt.title('Some extension of Receiver operating characteristic to multi-class')\n",
        "plt.legend(loc=\"lower right\")\n",
        "plt.show()\n",
        "\n"
      ],
      "metadata": {
        "id": "zX27ogZbGVWL"
      },
      "id": "zX27ogZbGVWL",
      "execution_count": null,
      "outputs": []
    },
    {
      "cell_type": "code",
      "source": [
        "#importing the K fold\n",
        "from sklearn.model_selection import KFold\n",
        "num_folds = 5\n",
        "kfold = KFold(n_splits=num_folds, random_state=420,shuffle=True)\n",
        "results_clf1 = cross_val_score(lr,X, y, cv=kfold)\n",
        "\n",
        "accuracy_clf1=np.mean(abs(results_clf1))\n",
        "print('Average accuracy: ',accuracy_clf1)\n",
        "print('Standard Deviation: ',results_clf1.std())"
      ],
      "metadata": {
        "id": "l4gCdXE7QvcU",
        "colab": {
          "base_uri": "https://localhost:8080/"
        },
        "outputId": "6ffcd960-8441-4b78-a9b0-28528b2d582e"
      },
      "id": "l4gCdXE7QvcU",
      "execution_count": null,
      "outputs": [
        {
          "output_type": "stream",
          "name": "stdout",
          "text": [
            "Average accuracy:  0.9800000000000001\n",
            "Standard Deviation:  0.01632993161855452\n"
          ]
        }
      ]
    }
  ],
  "metadata": {
    "kernelspec": {
      "display_name": "Python 3 (ipykernel)",
      "language": "python",
      "name": "python3"
    },
    "language_info": {
      "codemirror_mode": {
        "name": "ipython",
        "version": 3
      },
      "file_extension": ".py",
      "mimetype": "text/x-python",
      "name": "python",
      "nbconvert_exporter": "python",
      "pygments_lexer": "ipython3",
      "version": "3.8.3"
    },
    "colab": {
      "name": "A5_DTSC710_PARIDHI_1301148.ipynb",
      "provenance": [],
      "collapsed_sections": []
    }
  },
  "nbformat": 4,
  "nbformat_minor": 5
}